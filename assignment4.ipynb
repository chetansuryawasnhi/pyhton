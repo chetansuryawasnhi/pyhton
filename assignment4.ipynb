{
 "cells": [
  {
   "cell_type": "markdown",
   "id": "7fa09d50-3741-44b2-9b31-541fcf756ff5",
   "metadata": {},
   "source": [
    "## assignment no 6 by chetan suryawanshi"
   ]
  },
  {
   "cell_type": "code",
   "execution_count": 19,
   "id": "1750614c-7330-4a2d-b32a-426ee0affe99",
   "metadata": {},
   "outputs": [
    {
     "name": "stdin",
     "output_type": "stream",
     "text": [
      "enter the number : fd\n"
     ]
    },
    {
     "name": "stdout",
     "output_type": "stream",
     "text": [
      "name 'fd' is not defined\n"
     ]
    }
   ],
   "source": [
    "# wap ask the user enter a number\n",
    "# find it is a even number or odd number\n",
    "# idea: any number divide by 2 , the remiander=0\n",
    "#       it is called as even number\n",
    "try:\n",
    "    num=eval(input(\"enter the number :\"))\n",
    "    if num%2==0:\n",
    "        print(\"even\")\n",
    "    else:\n",
    "        print(\"odd\")\n",
    "except Exception as e:\n",
    "    print(e)\n",
    "\n"
   ]
  },
  {
   "cell_type": "code",
   "execution_count": 2,
   "id": "156d1f1b-d783-4004-a478-cc622dd30110",
   "metadata": {},
   "outputs": [
    {
     "name": "stdin",
     "output_type": "stream",
     "text": [
      "enter the distance : 34\n",
      "enter the chrge for 34 5\n"
     ]
    },
    {
     "name": "stdout",
     "output_type": "stream",
     "text": [
      "total =  170\n"
     ]
    }
   ],
   "source": [
    "# wap ask the user enter the distance\n",
    "# if distance greater than 25km\n",
    "#      then enter the charge\n",
    "#      print the total cost\n",
    "#otherwise\n",
    "#      print free ride\n",
    "try:\n",
    "    num=eval(input(\"enter the distance :\"))\n",
    "    if num>=25:\n",
    "        chr=eval(input(f\"enter the chrge for {num}\"))\n",
    "        print(\"total = \",chr*num)\n",
    "    else:\n",
    "        print(\"free ride\") \n",
    "except Exception as e:\n",
    "    print(e)"
   ]
  },
  {
   "cell_type": "code",
   "execution_count": 3,
   "id": "486c31ee-2ba2-40fa-a146-e17d72b0068f",
   "metadata": {},
   "outputs": [
    {
     "name": "stdin",
     "output_type": "stream",
     "text": [
      "enter distance : 50\n",
      "enter charge : 5\n"
     ]
    },
    {
     "name": "stdout",
     "output_type": "stream",
     "text": [
      "the total charge is 125\n"
     ]
    }
   ],
   "source": [
    "# wap ask the user enter the distance\n",
    "# cutoff distance enter 25\n",
    "# if distance greater than 25km\n",
    "#      print(\"good news your charge is aplicable for only remaining of 25\")\n",
    "#      chargeble distance= distance-cutoff\n",
    "#      then enter the charge\n",
    "#      print the total cost\n",
    "#otherwise\n",
    "#      print free ride\n",
    "try:\n",
    "    nu1=eval(input(\"enter distance :\"))\n",
    "    if nu1>25:\n",
    "        chr=eval(input(\"enter charge :\"))\n",
    "        print(\"the total charge is\", (nu1-25)*chr)\n",
    "    else:\n",
    "        print(\"free ride\")\n",
    "except Exception as e:\n",
    "    print(e)"
   ]
  },
  {
   "cell_type": "code",
   "execution_count": 4,
   "id": "316b7eea-82da-4116-91f9-00d5a1d9e9fc",
   "metadata": {},
   "outputs": [
    {
     "name": "stdin",
     "output_type": "stream",
     "text": [
      "enter the cource name : data science\n",
      "enter the institute name : data science\n"
     ]
    },
    {
     "name": "stdout",
     "output_type": "stream",
     "text": [
      "bad\n"
     ]
    }
   ],
   "source": [
    "\n",
    "# wap ask the user enter the course\n",
    "# ask the user enter the Institute\n",
    "# if the course equal to data science and institute equal to naresh it\n",
    "#     then you are good\n",
    "# otherwise\n",
    "#     you are bad\n",
    "try:\n",
    "    cou=input(\"enter the cource name :\")\n",
    "    insti=input(\"enter the institute name :\")\n",
    "    preferd_co=\"data science\"\n",
    "    pref_insti=\"naresh it\"\n",
    "    cou=cou.lower()\n",
    "    insti=insti.lower()\n",
    "    if cou==preferd_co and insti==pref_insti:\n",
    "        print(\"good\")\n",
    "    else:\n",
    "        print(\"bad\")\n",
    "except Exception as e:\n",
    "    print(e)"
   ]
  },
  {
   "cell_type": "code",
   "execution_count": 21,
   "id": "24123b96-7685-4067-aac3-f83b9c350810",
   "metadata": {},
   "outputs": [
    {
     "name": "stdin",
     "output_type": "stream",
     "text": [
      "enter the number : wqewq\n"
     ]
    },
    {
     "name": "stdout",
     "output_type": "stream",
     "text": [
      "invalid literal for int() with base 10: 'wqewq'\n"
     ]
    }
   ],
   "source": [
    "\n",
    "# wap ask the user enter a random number between 1 to 10, treat this as number1\n",
    "# ask the user enter another number from keyboard, treat this as number2\n",
    "# if number1 equal to number2\n",
    "#     print you won\n",
    "# otherwise\n",
    "#     print you lost\n",
    "try:\n",
    "    import random\n",
    "    n1=random.randrange(1,10)\n",
    "    n2=int(input(\"enter the number :\"))\n",
    "    if n1==n2:\n",
    "        print(\"you won\")\n",
    "    else:\n",
    "        print(\"loss\")\n",
    "except Exception as e:\n",
    "    print(e)"
   ]
  },
  {
   "cell_type": "code",
   "execution_count": 14,
   "id": "ce32a645-4648-41cd-8858-cdfd34c76920",
   "metadata": {},
   "outputs": [
    {
     "name": "stdin",
     "output_type": "stream",
     "text": [
      "enter the number : 5\n"
     ]
    },
    {
     "name": "stdout",
     "output_type": "stream",
     "text": [
      "the number not in range of 1,3\n"
     ]
    }
   ],
   "source": [
    "# q9 wap ask the user enrtrt the number if num= 1 print(1) num 2\n",
    "\n",
    "# wap ask the user enter number\n",
    "# if number equal to 1 then print one\n",
    "# if number equal to 2 then print two\n",
    "# if number equal to 3 then print three\n",
    "# otherwise  print enter a valid number\n",
    "try:\n",
    "    num=input(\"enter the number :\")\n",
    "    if num=='1':\n",
    "        print(\"one\")\n",
    "    elif num=='2':\n",
    "        print(\"two\")\n",
    "    elif num=='3':\n",
    "        print(\"three\")\n",
    "    else:\n",
    "        print(\"the number not in range of 1,3\")\n",
    "except Exception as e:\n",
    "    print(e)"
   ]
  },
  {
   "cell_type": "code",
   "execution_count": 16,
   "id": "b0da0118-ff92-4e4f-bfcb-71ac1020aa69",
   "metadata": {},
   "outputs": [
    {
     "name": "stdin",
     "output_type": "stream",
     "text": [
      "enter the number  : 3\n"
     ]
    },
    {
     "name": "stdout",
     "output_type": "stream",
     "text": [
      "3 is a positive number\n"
     ]
    }
   ],
   "source": [
    "# wap ask the user enter a number\n",
    "# if that number greater than zero print postive\n",
    "# if that number less than zero print negative\n",
    "# otherwise print zero\n",
    "try:\n",
    "    a=eval(input(\"enter the number  :\"))\n",
    "    if a>=0:\n",
    "        if a==0:\n",
    "            print(f\"{a} qual to zero\")\n",
    "        else:\n",
    "            print(f\"{a} is a positive number\")\n",
    "    else:\n",
    "        print(f\"{a} is a negative number\")\n",
    "except Exception as e:\n",
    "    print(e)"
   ]
  },
  {
   "cell_type": "code",
   "execution_count": 22,
   "id": "e5e7bd4f-6e37-4471-b251-f3c288abcae9",
   "metadata": {},
   "outputs": [
    {
     "name": "stdin",
     "output_type": "stream",
     "text": [
      "enter the number : #\n"
     ]
    },
    {
     "name": "stdout",
     "output_type": "stream",
     "text": [
      "invalid syntax (<string>, line 1)\n"
     ]
    }
   ],
   "source": [
    "# WAP ask the user enter the percentage of marks 0 to 100\n",
    "# if percentagw gretaer than 90  print A garde\n",
    "# if percentage between 75 to 90 print B garde\n",
    "# if percentage between 50 to 75 print C grade\n",
    "# if percentage between 35 to 50 print D grade\n",
    "# if percentage less than 35 print Fai\n",
    "try:\n",
    "    num=eval(input(\"enter the number :\"))\n",
    "    if num>=90:\n",
    "        print(\"A\")\n",
    "    elif num>=75 and num<90:\n",
    "        print(\"B\")\n",
    "    elif num>=50 and num<75:\n",
    "        print(\"C\")\n",
    "    elif num>=35 and num<50:\n",
    "        print(\"D\")\n",
    "    else:\n",
    "        print(\"fail\")\n",
    "except Exception as e:\n",
    "    print(e)"
   ]
  },
  {
   "cell_type": "code",
   "execution_count": 23,
   "id": "e35c01b8-9c81-47b4-a3fc-c1a84727cda4",
   "metadata": {},
   "outputs": [
    {
     "name": "stdin",
     "output_type": "stream",
     "text": [
      "enter the age : \\\n"
     ]
    },
    {
     "name": "stdout",
     "output_type": "stream",
     "text": [
      "unexpected character after line continuation character (<string>, line 1)\n"
     ]
    }
   ],
   "source": [
    "# WAP ask the user enter the age\n",
    "# if the age greater tahn 100 print you are lucky\n",
    "# if the age gretaer than 75 print old age\n",
    "# if the age  between 50 to 75 print ss\n",
    "# if the age between  30 tp 50 print MA\n",
    "# if the age between  15 to 30 print young age\n",
    "# if the afe between less than 15 print kid\n",
    "try:\n",
    "    num=eval(input(\"enter the age :\"))\n",
    "    if num>=100:\n",
    "        print(\"unlucky\")\n",
    "    elif num>=75:\n",
    "        print(\"old age\")\n",
    "    elif 50<=num<70:\n",
    "        print(\"ss\")\n",
    "    elif 30<=num<50:\n",
    "        print(\"MA\")\n",
    "    elif 15<=num<30:\n",
    "        print(\"young age\")\n",
    "    else:\n",
    "        print('kid')\n",
    "except Exception as e:\n",
    "    print(e)\n",
    "        "
   ]
  },
  {
   "cell_type": "code",
   "execution_count": null,
   "id": "53b4b613-0058-4c6b-89b1-859297603ddc",
   "metadata": {},
   "outputs": [],
   "source": []
  }
 ],
 "metadata": {
  "kernelspec": {
   "display_name": "Python 3 (ipykernel)",
   "language": "python",
   "name": "python3"
  },
  "language_info": {
   "codemirror_mode": {
    "name": "ipython",
    "version": 3
   },
   "file_extension": ".py",
   "mimetype": "text/x-python",
   "name": "python",
   "nbconvert_exporter": "python",
   "pygments_lexer": "ipython3",
   "version": "3.11.2"
  }
 },
 "nbformat": 4,
 "nbformat_minor": 5
}

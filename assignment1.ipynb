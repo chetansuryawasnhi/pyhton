{
 "cells": [
  {
   "cell_type": "markdown",
   "id": "405704b1-3f20-45d7-966d-59344c8c9353",
   "metadata": {},
   "source": [
    "## Q1) ASk the user take the 3 numbers from the keyboard find the avg ##"
   ]
  },
  {
   "cell_type": "code",
   "execution_count": 3,
   "id": "315c8523-b681-4176-9fcc-e6c94323960f",
   "metadata": {},
   "outputs": [
    {
     "name": "stdin",
     "output_type": "stream",
     "text": [
      "enter the num1 :  1\n",
      "enter the num2 :  2\n",
      "enter the num3 :  3\n"
     ]
    },
    {
     "name": "stdout",
     "output_type": "stream",
     "text": [
      "The avg is  = 2.6666666666666665\n"
     ]
    }
   ],
   "source": [
    "# Q1) ASk the user take the 3 numbers from the keyboard find the avg\n",
    "num1=eval(input(\"enter the num1 : \"))\n",
    "num2=eval(input(\"enter the num2 : \"))\n",
    "num3=eval(input(\"enter the num3 : \"))\n",
    "print(\"The avg is  =\",(num1+num2+num3))"
   ]
  },
  {
   "cell_type": "markdown",
   "id": "5d40a306-71a1-46b6-91b3-aec2ca0bd827",
   "metadata": {},
   "source": [
    "## Q2) Ask the user take the height and bredath find the Right angle traingle area ##"
   ]
  },
  {
   "cell_type": "code",
   "execution_count": 5,
   "id": "362a2810-9b46-4b69-8144-e93659a1ddd4",
   "metadata": {},
   "outputs": [
    {
     "name": "stdin",
     "output_type": "stream",
     "text": [
      "enter the height of triangle:  12\n",
      "enter the width of triangle:  2\n"
     ]
    },
    {
     "name": "stdout",
     "output_type": "stream",
     "text": [
      "The area of right angled triangle is :  12.0\n"
     ]
    }
   ],
   "source": [
    "height=eval(input(\"enter the height of triangle: \"))\n",
    "width=eval(input(\"enter the width of triangle: \"))\n",
    "print(\"The area of right angled triangle is : \",(1/2)*height*width)"
   ]
  },
  {
   "cell_type": "markdown",
   "id": "842fed92-4aa3-494a-a102-1af41096c463",
   "metadata": {},
   "source": [
    "## Q3) Ask the user ask the enter length and beadth, calculate area of rectangle ##"
   ]
  },
  {
   "cell_type": "code",
   "execution_count": 7,
   "id": "1077dd78-d44e-4f6d-bda6-381fe4a41fc9",
   "metadata": {},
   "outputs": [
    {
     "name": "stdin",
     "output_type": "stream",
     "text": [
      "enter the height of length:  4\n",
      "enter the width of beadth:  5\n"
     ]
    },
    {
     "name": "stdout",
     "output_type": "stream",
     "text": [
      "The area of right rectangle is :  20\n"
     ]
    }
   ],
   "source": [
    "len=eval(input(\"enter the length of rectangle : \"))\n",
    "beadth=eval(input(\"enter the beadth of rectangle: \"))\n",
    "print(\"The area of right rectangle is : \",beadth*len)"
   ]
  },
  {
   "cell_type": "markdown",
   "id": "6db41e58-a5eb-45d4-a65d-556e6a5dfc31",
   "metadata": {},
   "source": [
    "## Q4) Ask the user take the radius calculate area of the circle ##"
   ]
  },
  {
   "cell_type": "code",
   "execution_count": 8,
   "id": "d7c3e19d-ffee-4e42-9291-9a25184aa915",
   "metadata": {},
   "outputs": [
    {
     "name": "stdin",
     "output_type": "stream",
     "text": [
      "enter the radius of circle:  5\n"
     ]
    },
    {
     "name": "stdout",
     "output_type": "stream",
     "text": [
      "area of circle is :  78.5\n"
     ]
    }
   ],
   "source": [
    "rad=eval(input(\"enter the radius of circle: \"))\n",
    "print(\"area of circle is : \",3.14*rad**2)\n"
   ]
  },
  {
   "cell_type": "markdown",
   "id": "592cd53e-b861-48eb-8ba1-68518e0e4ba2",
   "metadata": {},
   "source": [
    "## Q5) Ask the user how much billl amount  How much tip_per you want to pa   calculate the total bi ##l "
   ]
  },
  {
   "cell_type": "code",
   "execution_count": 9,
   "id": "3fcf2a57-3eb5-4404-ac03-c0c004d6abc6",
   "metadata": {},
   "outputs": [
    {
     "name": "stdin",
     "output_type": "stream",
     "text": [
      "enter the bill amount:  200\n",
      "enter the tip percentage:  1\n"
     ]
    },
    {
     "name": "stdout",
     "output_type": "stream",
     "text": [
      "total bill amount including tip is : 202.0\n"
     ]
    }
   ],
   "source": [
    "billamut=eval(input(\"enter the bill amount: \"))\n",
    "tippercentage=eval(input(\"enter the tip percentage: \"))\n",
    "totalbill=billamut+(billamut*tippercentage/100)\n",
    "print(\"total bill amount including tip is :\",totalbill)"
   ]
  },
  {
   "cell_type": "code",
   "execution_count": null,
   "id": "7c8b957d-4ab8-47a0-8595-66e0602af3ee",
   "metadata": {},
   "outputs": [],
   "source": []
  }
 ],
 "metadata": {
  "kernelspec": {
   "display_name": "Python 3 (ipykernel)",
   "language": "python",
   "name": "python3"
  },
  "language_info": {
   "codemirror_mode": {
    "name": "ipython",
    "version": 3
   },
   "file_extension": ".py",
   "mimetype": "text/x-python",
   "name": "python",
   "nbconvert_exporter": "python",
   "pygments_lexer": "ipython3",
   "version": "3.11.2"
  }
 },
 "nbformat": 4,
 "nbformat_minor": 5
}

{
 "cells": [
  {
   "cell_type": "markdown",
   "id": "e62c0b1d-fbd9-432b-b06b-f9f3e2855ebd",
   "metadata": {},
   "source": [
    "## Assignment no 5 ##"
   ]
  },
  {
   "cell_type": "markdown",
   "id": "1b66f5c7-46fd-4e14-bdf9-6b487a7c98fc",
   "metadata": {},
   "source": [
    "**Q1) Ramesh’s basic salary is input through the keyboard. His dearness allowance is 40% of basic salary, and\r\n",
    "house rent allowance is 20% of basic salary. Write a program to calculate his gross salary**."
   ]
  },
  {
   "cell_type": "code",
   "execution_count": 48,
   "id": "95d0d1d4-43cc-49bd-8a75-ec188468da84",
   "metadata": {},
   "outputs": [
    {
     "name": "stdin",
     "output_type": "stream",
     "text": [
      "enter the salery : 10000\n"
     ]
    },
    {
     "name": "stdout",
     "output_type": "stream",
     "text": [
      "gross salery = 16000.0\n"
     ]
    }
   ],
   "source": [
    "salery=eval(input(\"enter the salery :\"))\n",
    "da=salery*(40/100)\n",
    "hr=salery*(20/100)\n",
    "print(\"gross salery =\",salery+da+hr)\n"
   ]
  },
  {
   "cell_type": "markdown",
   "id": "76c216a0-aebe-4493-96e6-c6c4a2337fad",
   "metadata": {},
   "source": [
    "**Q2) The distance between two cities (in km.) is input through the keyboard. Write a program to convert and\r\n",
    "print this distance in meters, feet, inches and centimeters.**"
   ]
  },
  {
   "cell_type": "code",
   "execution_count": 13,
   "id": "fa720997-c900-4064-9fe4-d1114d0d5d70",
   "metadata": {},
   "outputs": [
    {
     "name": "stdin",
     "output_type": "stream",
     "text": [
      "enter the distance in km : 56\n"
     ]
    },
    {
     "name": "stdout",
     "output_type": "stream",
     "text": [
      "the distnce 56 in km is in meters = 56000\n",
      "the distnce 56 in km is in feet = 183727.03\n",
      "the distnce 56 in km is in inch = 2204725.6\n",
      "the distnce 56 in km is in centimetre = 5600000\n"
     ]
    }
   ],
   "source": [
    "dis=eval(input(\"enter the distance in km :\"))\n",
    "print(f\"the distnce {dis} in km is in meters =\",dis*1000)\n",
    "print(f\"the distnce {dis} in km is in feet =\",round(dis*3280.8398950131,2))\n",
    "print(f\"the distnce {dis} in km is in inch =\",round(dis*39370.1,2))\n",
    "print(f\"the distnce {dis} in km is in centimetre =\",dis*100000)"
   ]
  },
  {
   "cell_type": "markdown",
   "id": "615b6f03-86c5-4021-9f92-74903b072250",
   "metadata": {},
   "source": [
    "**3.If the marks obtained by a student in five different subjects are input through the keyboard, find out the\n",
    "aggregate marks and percentage marks obtained by the student. Assume that the maximum marks that\n",
    "can be obtained by a student in each subject is 100.**"
   ]
  },
  {
   "cell_type": "code",
   "execution_count": 22,
   "id": "27674966-c352-423f-ba45-34fde7bdc2f3",
   "metadata": {},
   "outputs": [
    {
     "name": "stdin",
     "output_type": "stream",
     "text": [
      "enter the mark sub1 : 50\n",
      "enter the mark sub2 : 50\n",
      "enter the mark sub3 : 50\n",
      "enter the mark sub4 : 50\n",
      "enter the mark sub5 : 50\n"
     ]
    },
    {
     "name": "stdout",
     "output_type": "stream",
     "text": [
      "aggregate : 250\n",
      "Percentage marks: 50.0\n"
     ]
    }
   ],
   "source": [
    "sum=0\n",
    "for i in range(1,6):\n",
    "    sum+=eval(input(f\"enter the mark sub{i} :\"))\n",
    "max_mark=100\n",
    "total=max_mark*5\n",
    "print(\"aggregate :\",sum)\n",
    "print(\"Percentage marks:\",(sum/total)*100)\n"
   ]
  },
  {
   "cell_type": "markdown",
   "id": "b4cd5b82-1d2b-4d66-bd90-9d4c0551e405",
   "metadata": {},
   "source": [
    "**4. Temperature of a city in Fahrenheit degrees is input through the keyboard. Write a program to convert this\r\n",
    "temperature into Centigrade degrees.**"
   ]
  },
  {
   "cell_type": "code",
   "execution_count": 23,
   "id": "04b50310-548d-48c1-b23a-e4432d10bdf2",
   "metadata": {},
   "outputs": [
    {
     "name": "stdin",
     "output_type": "stream",
     "text": [
      "enter the temp: 25\n"
     ]
    },
    {
     "name": "stdout",
     "output_type": "stream",
     "text": [
      "the temp 25 in farhnit is : 77.0\n"
     ]
    }
   ],
   "source": [
    "temp=eval(input(\"enter the temp:\"))\n",
    "print(f\"the temp {temp} in farhnit is :\",temp*(9/5)+32)"
   ]
  },
  {
   "cell_type": "markdown",
   "id": "0468c188-ec24-47ff-a743-c005dcb8349b",
   "metadata": {},
   "source": [
    "**5. The length & breadth of a rectangle and radius of a circle are input through the keyboard. Write a program\n",
    "to calculate the area & perimeter of the rectangle, and the area & circumference of the circle.**"
   ]
  },
  {
   "cell_type": "code",
   "execution_count": 28,
   "id": "02d1a7e2-7b1c-4066-9d21-a7daf2827fec",
   "metadata": {},
   "outputs": [
    {
     "name": "stdin",
     "output_type": "stream",
     "text": [
      "enter the length of rectangle: 2\n",
      "enter the breadth of rectangle: 4\n",
      "enter the radius of circle: 5\n"
     ]
    },
    {
     "name": "stdout",
     "output_type": "stream",
     "text": [
      "The area of rectangle is : 8\n",
      "The perimeter of rectangle is : 12\n",
      "The area of circle is : 78.5\n",
      "The circumference of circle is : 31.400000000000002\n"
     ]
    }
   ],
   "source": [
    "len=eval(input(\"enter the length of rectangle:\"))\n",
    "bre=eval(input(\"enter the breadth of rectangle:\"))\n",
    "radi=eval(input(\"enter the radius of circle:\"))\n",
    "print(\"The area of rectangle is :\",len*bre)\n",
    "print(\"The perimeter of rectangle is :\",2*(len+bre))\n",
    "print(\"The area of circle is :\",3.14*(radi**2))\n",
    "print(\"The circumference of circle is :\",2*3.14*radi)"
   ]
  },
  {
   "cell_type": "markdown",
   "id": "2b2fe756-e469-4642-b19a-c4284db72679",
   "metadata": {},
   "source": [
    "**6. Two numbers are input through the keyboard into two locations C and D. Write a program to interchange\r\n",
    "the contents of C and D.**"
   ]
  },
  {
   "cell_type": "code",
   "execution_count": 29,
   "id": "8f32566a-24a7-43f1-8d8c-41cbd6c095fe",
   "metadata": {},
   "outputs": [
    {
     "name": "stdin",
     "output_type": "stream",
     "text": [
      "enter the c: 3\n",
      "enter the d: 4\n"
     ]
    },
    {
     "name": "stdout",
     "output_type": "stream",
     "text": [
      "before changing c=3 d=4\n",
      "after changing c=4 d=3\n"
     ]
    }
   ],
   "source": [
    "c=eval(input(\"enter the c:\"))\n",
    "d=eval(input(\"enter the d:\"))\n",
    "print(f\"before changing c={c} d={d}\")\n",
    "temp=c\n",
    "c=d\n",
    "d=temp\n",
    "print(f\"after changing c={c} d={d}\")"
   ]
  },
  {
   "cell_type": "markdown",
   "id": "b3e3a36b-7928-43c6-b657-1292d024aff4",
   "metadata": {},
   "source": [
    "**7. If a five-digit number is input through the keyboard, write a program to reverse the number**"
   ]
  },
  {
   "cell_type": "code",
   "execution_count": 30,
   "id": "3b9dc76c-b874-4a85-80fd-6254f443a70d",
   "metadata": {},
   "outputs": [
    {
     "name": "stdin",
     "output_type": "stream",
     "text": [
      "enter the 5 digit number : 23456\n"
     ]
    },
    {
     "name": "stdout",
     "output_type": "stream",
     "text": [
      "65432\n"
     ]
    }
   ],
   "source": [
    "num=input(\"enter the 5 digit number :\")\n",
    "print(num[::-1])"
   ]
  },
  {
   "cell_type": "markdown",
   "id": "a20fd957-125e-4b39-bc6a-55702d8b6942",
   "metadata": {},
   "source": [
    "**8. If a four-digit number is input through the keyboard, write a program to obtain the sum of the first and last\r\n",
    "digit of this number.**"
   ]
  },
  {
   "cell_type": "code",
   "execution_count": 36,
   "id": "28eb8356-b372-4a97-ab56-bff7b2ed3067",
   "metadata": {},
   "outputs": [
    {
     "name": "stdin",
     "output_type": "stream",
     "text": [
      "enter the 4 digit number : 1234\n"
     ]
    },
    {
     "name": "stdout",
     "output_type": "stream",
     "text": [
      "the sum of 1 + 4: 5\n"
     ]
    }
   ],
   "source": [
    "num1=input(\"enter the 4 digit number :\")\n",
    "print(f\"the sum of {num[0]} + {num[-1]}:\",int(num1[0])+int(num1[-1]))"
   ]
  },
  {
   "cell_type": "markdown",
   "id": "23c7e009-ab6c-486c-9af0-42d5b2cb759e",
   "metadata": {},
   "source": [
    "**9. In a town, the percentage of men is 52. The percentage of total literacy is 48. If total percentage of literate\n",
    "men is 35 of the total population, write a program to find the total number of illiterate men and women if\n",
    "the population of the town is 80,000.**"
   ]
  },
  {
   "cell_type": "code",
   "execution_count": 42,
   "id": "569b413a-d39a-4fbb-a205-aacfad6f9e83",
   "metadata": {},
   "outputs": [
    {
     "name": "stdout",
     "output_type": "stream",
     "text": [
      "man : 13600.0\n",
      "women : 28000.0\n"
     ]
    }
   ],
   "source": [
    "man=80000*(52/100)\n",
    "women=80000-man\n",
    "litrate_man=(35/100)*80000\n",
    "litrate_women=(13/100)*80000\n",
    "print(\"iltreate man :\",man-litrate_man)\n",
    "print(\"ilitrate women :\",women-litrate_women)"
   ]
  },
  {
   "cell_type": "markdown",
   "id": "ff5b3236-9230-47dd-b2ba-f843c0685c65",
   "metadata": {},
   "source": [
    "**10. A cashier has currency notes of denominations 10, 50 and 100. If the amount to be withdrawn is input\r\n",
    "through the keyboard in hundreds, find the total number of currency notes of each denomination the\r\n",
    "cashier will have to give to the withdrawer.**"
   ]
  },
  {
   "cell_type": "code",
   "execution_count": 46,
   "id": "6e82ee91-3275-4793-959e-0bdc1847822b",
   "metadata": {},
   "outputs": [
    {
     "name": "stdin",
     "output_type": "stream",
     "text": [
      "enter the notes 5050\n"
     ]
    },
    {
     "name": "stdout",
     "output_type": "stream",
     "text": [
      "Required notes of Rs. 100  : 50\n",
      "Required notes of Rs. 50   :  1\n",
      "Required notes of Rs. 10   :   0\n",
      "remaing : 0\n"
     ]
    }
   ],
   "source": [
    "amount=eval(input(\"enter the notes\"))\n",
    "print(\"Required notes of Rs. 100  :\", int(amount / 100))\n",
    "print(\"Required notes of Rs. 50   : \", int((amount % 100) / 50))\n",
    "print(\"Required notes of Rs. 10   :  \", int(((amount % 100) % 50) / 10))\n",
    "print(\"remaing :\",int(((amount % 100) % 50) % 10))"
   ]
  },
  {
   "cell_type": "code",
   "execution_count": null,
   "id": "f71d0cae-426d-49ba-8685-0242ca404f6d",
   "metadata": {},
   "outputs": [],
   "source": []
  }
 ],
 "metadata": {
  "kernelspec": {
   "display_name": "Python 3 (ipykernel)",
   "language": "python",
   "name": "python3"
  },
  "language_info": {
   "codemirror_mode": {
    "name": "ipython",
    "version": 3
   },
   "file_extension": ".py",
   "mimetype": "text/x-python",
   "name": "python",
   "nbconvert_exporter": "python",
   "pygments_lexer": "ipython3",
   "version": "3.11.2"
  }
 },
 "nbformat": 4,
 "nbformat_minor": 5
}

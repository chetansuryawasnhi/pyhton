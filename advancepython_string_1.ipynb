{
 "cells": [
  {
   "cell_type": "markdown",
   "id": "86da1366-8519-45e4-b004-4c7f3d2b83f9",
   "metadata": {},
   "source": [
    "### feozen set\n",
    "### byte array"
   ]
  },
  {
   "cell_type": "markdown",
   "id": "b86309d6-8905-4c9c-ab99-ea88cc13c6cc",
   "metadata": {},
   "source": [
    "- intializtion of string\n",
    "- type '\n",
    "- minimum value\n",
    "- max value\n",
    "- sorted\n",
    "- reversed\n",
    "- in operator\n",
    "- for loop with in operator\n",
    "- index\n",
    "- for loop with index\n",
    "- mutable\n",
    "- immutable\n",
    "- concationaton\n",
    "- methods\n",
    "- conditions\n",
    "- "
   ]
  },
  {
   "cell_type": "code",
   "execution_count": 17,
   "id": "3c591dd3-3ed3-4d61-a985-43c1975415d4",
   "metadata": {},
   "outputs": [
    {
     "data": {
      "text/plain": [
       "'pyhton'"
      ]
     },
     "execution_count": 17,
     "metadata": {},
     "output_type": "execute_result"
    }
   ],
   "source": [
    "str1=\"pyhton\"\n",
    "str1"
   ]
  },
  {
   "cell_type": "code",
   "execution_count": 9,
   "id": "8b91de73-248a-40cb-9ed9-df44c04336f5",
   "metadata": {},
   "outputs": [],
   "source": [
    "def fun():\n",
    "    ''' this is a fun'''\n",
    "    pass\n"
   ]
  },
  {
   "cell_type": "code",
   "execution_count": 6,
   "id": "33956353-3e5f-4a6e-b912-1e83642b7ea8",
   "metadata": {},
   "outputs": [
    {
     "name": "stdout",
     "output_type": "stream",
     "text": [
      "Pyhton\n"
     ]
    }
   ],
   "source": [
    "print(str1)"
   ]
  },
  {
   "cell_type": "markdown",
   "id": "ded77ce0-93f5-4141-a6d4-ba73d92c1c4d",
   "metadata": {},
   "source": [
    "**docstring**\n",
    "\n",
    "- we can write string using ''' quotes but\n",
    "- this methos called as docstring\n",
    "- it is a way of comuunication the information to the user\n",
    "- do not apply ''' when doing the code\n",
    "- "
   ]
  },
  {
   "cell_type": "code",
   "execution_count": 8,
   "id": "fe778fc3-9498-4f89-84d2-56f8f43bf92b",
   "metadata": {},
   "outputs": [],
   "source": [
    "import random\n",
    "random.randint()"
   ]
  },
  {
   "cell_type": "code",
   "execution_count": 13,
   "id": "d861cb5a-cfdc-4967-ae9a-95e536bb8b84",
   "metadata": {},
   "outputs": [
    {
     "data": {
      "text/plain": [
       "str"
      ]
     },
     "execution_count": 13,
     "metadata": {},
     "output_type": "execute_result"
    }
   ],
   "source": [
    "type(str1)"
   ]
  },
  {
   "cell_type": "code",
   "execution_count": 14,
   "id": "a3bb9689-97bf-47d1-98e4-3b02bfd13b19",
   "metadata": {},
   "outputs": [
    {
     "data": {
      "text/plain": [
       "6"
      ]
     },
     "execution_count": 14,
     "metadata": {},
     "output_type": "execute_result"
    }
   ],
   "source": [
    "len(str1)"
   ]
  },
  {
   "cell_type": "code",
   "execution_count": 15,
   "id": "582af0c0-0886-4294-9b80-441a751068c6",
   "metadata": {},
   "outputs": [
    {
     "data": {
      "text/plain": [
       "'y'"
      ]
     },
     "execution_count": 15,
     "metadata": {},
     "output_type": "execute_result"
    }
   ],
   "source": [
    "max(str1)"
   ]
  },
  {
   "cell_type": "code",
   "execution_count": 18,
   "id": "01086ca4-0c56-4254-8863-473ef7297c3e",
   "metadata": {},
   "outputs": [
    {
     "data": {
      "text/plain": [
       "'h'"
      ]
     },
     "execution_count": 18,
     "metadata": {},
     "output_type": "execute_result"
    }
   ],
   "source": [
    "min(str1)"
   ]
  },
  {
   "cell_type": "code",
   "execution_count": 19,
   "id": "02da012c-11a1-4acc-a2b0-089efaf6565d",
   "metadata": {},
   "outputs": [
    {
     "data": {
      "text/plain": [
       "6"
      ]
     },
     "execution_count": 19,
     "metadata": {},
     "output_type": "execute_result"
    }
   ],
   "source": [
    "len('len123')"
   ]
  },
  {
   "cell_type": "code",
   "execution_count": 21,
   "id": "d3a0c5db-490b-4694-bdf0-78bf802a3558",
   "metadata": {},
   "outputs": [
    {
     "data": {
      "text/plain": [
       "'c'"
      ]
     },
     "execution_count": 21,
     "metadata": {},
     "output_type": "execute_result"
    }
   ],
   "source": [
    "max('Abc123')"
   ]
  },
  {
   "cell_type": "code",
   "execution_count": 23,
   "id": "f2186d2d-e8a7-40a2-852d-5d47f488de6c",
   "metadata": {},
   "outputs": [
    {
     "data": {
      "text/plain": [
       "'1'"
      ]
     },
     "execution_count": 23,
     "metadata": {},
     "output_type": "execute_result"
    }
   ],
   "source": [
    "min('abc123')"
   ]
  },
  {
   "cell_type": "markdown",
   "id": "e0d8f1bd-4757-4fe2-929a-e8dccdcca4f0",
   "metadata": {},
   "source": [
    "- type()\n",
    "- print()\n",
    "- len()\n",
    "- max()\n",
    "- min()\n",
    "\n",
    "- this are the inbuilt function which apply on all the data type\n",
    "- its like keyword this all are inbuilt function\n",
    "- means we can apply on string,list,tuple ,dict ,etc"
   ]
  },
  {
   "cell_type": "markdown",
   "id": "c907f68c-cf67-4d87-b2c6-4a5da9d7d831",
   "metadata": {},
   "source": [
    "**diffrence b/w mathods and inbuilt fuctions**\n",
    "\n",
    "- methods comes from packges in order to use any method\n",
    "- import the packge\n",
    "- but inbulit function no need of packges\n",
    "- import random === random.randint\n",
    "- import math === math.sqrt()\n",
    "- import time === time.sleep()\n",
    "\n",
    "**inbilt fucntions are like this**\n",
    "- type()\n",
    "- print()\n",
    "- len()\n",
    "- max()\n",
    "- min()"
   ]
  },
  {
   "cell_type": "markdown",
   "id": "1b14a870-238c-4f0a-8d89-efc7e8bcba8d",
   "metadata": {},
   "source": [
    " **reversed**"
   ]
  },
  {
   "cell_type": "code",
   "execution_count": 44,
   "id": "51cdbbaf-830d-46a4-9e09-d672f1fa1ae6",
   "metadata": {},
   "outputs": [],
   "source": [
    "k=reversed('python')"
   ]
  },
  {
   "cell_type": "markdown",
   "id": "bd3259e0-0f00-4e95-8ba2-d0264b451d0d",
   "metadata": {},
   "source": [
    "<reversed at 0x22f9ec2dab0> it is the memoery we get output in for loop\n",
    "we can get llop output by list typecasting"
   ]
  },
  {
   "cell_type": "code",
   "execution_count": 34,
   "id": "c099e76b-56d1-4f38-85f0-ba50807175ad",
   "metadata": {},
   "outputs": [
    {
     "name": "stdout",
     "output_type": "stream",
     "text": [
      "nohtyp"
     ]
    }
   ],
   "source": [
    "for i in k:\n",
    "    print(i,end=\"\")"
   ]
  },
  {
   "cell_type": "code",
   "execution_count": 45,
   "id": "76e08ac7-b4e5-4a72-9a9d-81e7af1b67ae",
   "metadata": {},
   "outputs": [
    {
     "data": {
      "text/plain": [
       "{'h', 'n', 'o', 'p', 't', 'y'}"
      ]
     },
     "execution_count": 45,
     "metadata": {},
     "output_type": "execute_result"
    }
   ],
   "source": [
    "set(k)"
   ]
  },
  {
   "cell_type": "code",
   "execution_count": 50,
   "id": "604287ad-1b67-4001-87ee-8e55b128b985",
   "metadata": {},
   "outputs": [
    {
     "ename": "TypeError",
     "evalue": "reversed() takes no keyword arguments",
     "output_type": "error",
     "traceback": [
      "\u001b[1;31m---------------------------------------------------------------------------\u001b[0m",
      "\u001b[1;31mTypeError\u001b[0m                                 Traceback (most recent call last)",
      "Cell \u001b[1;32mIn[50], line 1\u001b[0m\n\u001b[1;32m----> 1\u001b[0m \u001b[38;5;28;43mreversed\u001b[39;49m\u001b[43m(\u001b[49m\u001b[43msequence\u001b[49m\u001b[38;5;241;43m=\u001b[39;49m\u001b[38;5;124;43m\"\u001b[39;49m\u001b[38;5;124;43mPython\u001b[39;49m\u001b[38;5;124;43m\"\u001b[39;49m\u001b[43m)\u001b[49m\n",
      "\u001b[1;31mTypeError\u001b[0m: reversed() takes no keyword arguments"
     ]
    }
   ],
   "source": [
    "reversed(sequence=\"Python\")"
   ]
  },
  {
   "cell_type": "markdown",
   "id": "06df9e2d-b02e-4452-8714-3af758f96e9c",
   "metadata": {},
   "source": [
    "# Init signature: reversed(sequence, /) when ever the / is there dont use the name of keyword in the argument passsing\n",
    "## before slash not provide the variable name after slash we can provide"
   ]
  },
  {
   "cell_type": "code",
   "execution_count": 47,
   "id": "25d9a5c8-f195-4b85-9696-e28c3ab73add",
   "metadata": {},
   "outputs": [],
   "source": [
    "import random\n",
    "random.randint()"
   ]
  },
  {
   "cell_type": "code",
   "execution_count": 52,
   "id": "48ae6daa-4693-4296-abc1-315189237618",
   "metadata": {},
   "outputs": [
    {
     "ename": "TypeError",
     "evalue": "fun() got some positional-only arguments passed as keyword arguments: 'a'",
     "output_type": "error",
     "traceback": [
      "\u001b[1;31m---------------------------------------------------------------------------\u001b[0m",
      "\u001b[1;31mTypeError\u001b[0m                                 Traceback (most recent call last)",
      "Cell \u001b[1;32mIn[52], line 3\u001b[0m\n\u001b[0;32m      1\u001b[0m \u001b[38;5;28;01mdef\u001b[39;00m \u001b[38;5;21mfun\u001b[39m(a,\u001b[38;5;241m/\u001b[39m,b):\n\u001b[0;32m      2\u001b[0m     \u001b[38;5;28mprint\u001b[39m(a,b)\n\u001b[1;32m----> 3\u001b[0m \u001b[43mfun\u001b[49m\u001b[43m(\u001b[49m\u001b[43ma\u001b[49m\u001b[38;5;241;43m=\u001b[39;49m\u001b[38;5;241;43m10\u001b[39;49m\u001b[43m,\u001b[49m\u001b[43mb\u001b[49m\u001b[38;5;241;43m=\u001b[39;49m\u001b[38;5;241;43m20\u001b[39;49m\u001b[43m)\u001b[49m\n",
      "\u001b[1;31mTypeError\u001b[0m: fun() got some positional-only arguments passed as keyword arguments: 'a'"
     ]
    }
   ],
   "source": [
    "def fun(a,/,b):\n",
    "    print(a,b)\n",
    "fun(a=10,b=20)"
   ]
  },
  {
   "cell_type": "code",
   "execution_count": 54,
   "id": "800e1fe2-434b-4ced-974e-22619ba4f521",
   "metadata": {},
   "outputs": [
    {
     "name": "stdout",
     "output_type": "stream",
     "text": [
      "10 20\n"
     ]
    }
   ],
   "source": [
    "def fun(a,/,b):\n",
    "    print(a,b)\n",
    "fun(10,b=20)"
   ]
  },
  {
   "cell_type": "code",
   "execution_count": 55,
   "id": "601c5935-70f2-45b6-86bd-fce4fffe0a56",
   "metadata": {},
   "outputs": [
    {
     "name": "stdout",
     "output_type": "stream",
     "text": [
      "10 20\n"
     ]
    }
   ],
   "source": [
    "fun(10,20)"
   ]
  },
  {
   "cell_type": "code",
   "execution_count": 63,
   "id": "5f87cc94-dce5-4824-b319-51e15401141c",
   "metadata": {},
   "outputs": [
    {
     "data": {
      "text/plain": [
       "['pyhton', 'chetan']"
      ]
     },
     "execution_count": 63,
     "metadata": {},
     "output_type": "execute_result"
    }
   ],
   "source": [
    "sorted([\"pyhton\",\"chetan\"],reverse=True)"
   ]
  },
  {
   "cell_type": "code",
   "execution_count": 62,
   "id": "4a02878c-c50b-489a-9f25-5b48520cdc6a",
   "metadata": {},
   "outputs": [
    {
     "data": {
      "text/plain": [
       "[1, 2]"
      ]
     },
     "execution_count": 62,
     "metadata": {},
     "output_type": "execute_result"
    }
   ],
   "source": [
    "a={1:\"chetan\",2:\"python\"}\n",
    "sorted(a)"
   ]
  },
  {
   "cell_type": "code",
   "execution_count": 64,
   "id": "a8f952be-e6a6-4bd7-b802-5815a56ad7e5",
   "metadata": {},
   "outputs": [
    {
     "ename": "SyntaxError",
     "evalue": "invalid syntax (3816963547.py, line 1)",
     "output_type": "error",
     "traceback": [
      "\u001b[1;36m  Cell \u001b[1;32mIn[64], line 1\u001b[1;36m\u001b[0m\n\u001b[1;33m    **sorted**\u001b[0m\n\u001b[1;37m    ^\u001b[0m\n\u001b[1;31mSyntaxError\u001b[0m\u001b[1;31m:\u001b[0m invalid syntax\n"
     ]
    }
   ],
   "source": [
    "**sorted**\n"
   ]
  },
  {
   "cell_type": "code",
   "execution_count": 66,
   "id": "9545f7c5-ee8a-4803-9c9b-57e1f5379655",
   "metadata": {},
   "outputs": [
    {
     "data": {
      "text/plain": [
       "['h', 'n', 'o', 'p', 't', 'y']"
      ]
     },
     "execution_count": 66,
     "metadata": {},
     "output_type": "execute_result"
    }
   ],
   "source": [
    "sorted(\"pyhton\")"
   ]
  },
  {
   "cell_type": "code",
   "execution_count": 69,
   "id": "1cf91a80-b0a0-4594-8f6f-8a4970072b36",
   "metadata": {},
   "outputs": [
    {
     "name": "stdout",
     "output_type": "stream",
     "text": [
      "1 2\n"
     ]
    }
   ],
   "source": [
    "dict1={1:\"chetan\",2:\"python\"}\n",
    "print(*dict1.keys())"
   ]
  },
  {
   "cell_type": "code",
   "execution_count": 72,
   "id": "358d639e-9f96-48d2-bd51-c37af1888370",
   "metadata": {},
   "outputs": [],
   "source": [
    "list1=[1,2,3,4,5]"
   ]
  },
  {
   "cell_type": "code",
   "execution_count": 73,
   "id": "5e02508c-7c93-4bf1-ac29-8a1040bcdab1",
   "metadata": {},
   "outputs": [
    {
     "data": {
      "text/plain": [
       "[1, 2, 3, 4, 5]"
      ]
     },
     "execution_count": 73,
     "metadata": {},
     "output_type": "execute_result"
    }
   ],
   "source": [
    "list1"
   ]
  },
  {
   "cell_type": "markdown",
   "id": "81439e30-2bcc-4f1d-b613-94b12dee85fd",
   "metadata": {},
   "source": [
    "- def add(a,b,c=10)\n",
    "- so we can write like\n",
    "- def add(a,b,/,c=10)"
   ]
  },
  {
   "cell_type": "code",
   "execution_count": 79,
   "id": "cd7b86b4-03a9-4921-914d-221ab2ac9432",
   "metadata": {},
   "outputs": [
    {
     "name": "stdout",
     "output_type": "stream",
     "text": [
      "pyhton"
     ]
    }
   ],
   "source": [
    "for i in str1:\n",
    "    print(i,end=\"\")"
   ]
  },
  {
   "cell_type": "code",
   "execution_count": 81,
   "id": "d3af3634-8d20-472f-9613-987d65f883ff",
   "metadata": {},
   "outputs": [
    {
     "name": "stdout",
     "output_type": "stream",
     "text": [
      "3\n"
     ]
    }
   ],
   "source": [
    "string='hai hai hai'\n",
    "c=0\n",
    "for i in string:\n",
    "    if i==\"a\":\n",
    "        c+=1\n",
    "print(c)"
   ]
  },
  {
   "cell_type": "code",
   "execution_count": 85,
   "id": "67ad6c2f-c2ae-483a-8f6c-934ef363faa2",
   "metadata": {},
   "outputs": [
    {
     "name": "stdout",
     "output_type": "stream",
     "text": [
      "5\n",
      "4\n"
     ]
    }
   ],
   "source": [
    "#assignment \n",
    "# q1 wap to ciunt vowels in string\n",
    "q1='hai how are' \n",
    "c=0\n",
    "for i in q1:\n",
    "    if i in \"aeiou\":\n",
    "        c+=1\n",
    "print(c)\n",
    "\n",
    "#q2 count not repeating\n",
    "c2=0\n",
    "for i in 'aeiou':\n",
    "    if i in q1:\n",
    "        c2+=1\n",
    "print(c2)"
   ]
  },
  {
   "cell_type": "code",
   "execution_count": null,
   "id": "6104886a-1b2a-442f-8959-5356a6ba8cbc",
   "metadata": {},
   "outputs": [],
   "source": []
  }
 ],
 "metadata": {
  "kernelspec": {
   "display_name": "Python 3 (ipykernel)",
   "language": "python",
   "name": "python3"
  },
  "language_info": {
   "codemirror_mode": {
    "name": "ipython",
    "version": 3
   },
   "file_extension": ".py",
   "mimetype": "text/x-python",
   "name": "python",
   "nbconvert_exporter": "python",
   "pygments_lexer": "ipython3",
   "version": "3.11.2"
  }
 },
 "nbformat": 4,
 "nbformat_minor": 5
}

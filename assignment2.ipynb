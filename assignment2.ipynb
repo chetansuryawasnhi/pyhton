{
 "cells": [
  {
   "cell_type": "markdown",
   "id": "df27674b-6c87-4eb7-8302-bed975efbebb",
   "metadata": {},
   "source": [
    "**1. Ask the user to enter a number. Print out the square of the number, s\n",
    "Sample output  s shown belo .\r\n",
    "Enter a number  5\r\n",
    "The square of   i** 25."
   ]
  },
  {
   "cell_type": "code",
   "execution_count": 1,
   "id": "3bfa53b5-127e-4629-8f7c-096034b0b8ad",
   "metadata": {},
   "outputs": [
    {
     "name": "stdin",
     "output_type": "stream",
     "text": [
      "enter the number : 5\n"
     ]
    },
    {
     "name": "stdout",
     "output_type": "stream",
     "text": [
      "The sqaure of the 5 is 25\n"
     ]
    }
   ],
   "source": [
    "n1=eval(input(\"enter the number :\"))\n",
    "print(f\"The sqaure of the {n1} is {n1**2}\")"
   ]
  },
  {
   "cell_type": "markdown",
   "id": "30379324-5354-45f8-acbd-c5da35a40509",
   "metadata": {},
   "source": [
    "**2. Ask the user to enter a number x. print out x, 2x, 3x, 4x, and 5x,\r\n",
    "each separated by three dashes, like below.\r\n",
    "Enter a number: 7\r\n",
    "7---14---21---28--**-35"
   ]
  },
  {
   "cell_type": "code",
   "execution_count": 5,
   "id": "4e81ad01-2c82-423c-9a80-4af911599936",
   "metadata": {},
   "outputs": [
    {
     "name": "stdin",
     "output_type": "stream",
     "text": [
      "enter the number : 5\n"
     ]
    },
    {
     "name": "stdout",
     "output_type": "stream",
     "text": [
      "5-->10-->15-->20-->25\n",
      "5-->10-->15-->20-->25-->"
     ]
    }
   ],
   "source": [
    "x=eval(input(\"enter the number :\"))\n",
    "print(f\"{x}-->{2*x}-->{3*x}-->{4*x}-->{5*x}\")\n",
    "for i in range(1,6):\n",
    "    print(f\"{x*i}-->\",end=\"\")"
   ]
  },
  {
   "cell_type": "markdown",
   "id": "a5cf2fd6-a3d3-41fd-b9ee-8dede92a9d78",
   "metadata": {},
   "source": [
    "**3. Write a program that asks the user for a weight in kilograms and\r\n",
    "converts it to pounds. There are 2.2 pounds in a kilogram**."
   ]
  },
  {
   "cell_type": "code",
   "execution_count": 6,
   "id": "9266d171-8a63-4ee2-a8d0-1c237a58be1e",
   "metadata": {},
   "outputs": [
    {
     "name": "stdin",
     "output_type": "stream",
     "text": [
      "enter the weight in kg : 5\n"
     ]
    },
    {
     "name": "stdout",
     "output_type": "stream",
     "text": [
      "The weight 5 in pound is : 11.0\n"
     ]
    }
   ],
   "source": [
    "n2=eval(input(\"enter the weight in kg :\"))\n",
    "print(f\"The weight {n2} in pound is : {n2*2.2}\")"
   ]
  },
  {
   "cell_type": "markdown",
   "id": "685bd112-41f8-4c72-8a89-e0703951cf75",
   "metadata": {},
   "source": [
    "**4. Write a program that asks the user to enter three numbers (use three\r\n",
    "separate input statements).Create variables called total and average\r\n",
    "that hold the sum and average of the three numbers and print out the\r\n",
    "values of total and avera**ge."
   ]
  },
  {
   "cell_type": "code",
   "execution_count": 9,
   "id": "3572072a-c766-4694-90c7-9ffaf274e942",
   "metadata": {},
   "outputs": [
    {
     "name": "stdin",
     "output_type": "stream",
     "text": [
      "enter the num1 :  1\n",
      "enter the num2 :  2\n",
      "enter the num3 :  3\n"
     ]
    },
    {
     "name": "stdout",
     "output_type": "stream",
     "text": [
      "The avg is  = 2.0\n"
     ]
    }
   ],
   "source": [
    "num1=eval(input(\"enter the num1 : \"))\n",
    "num2=eval(input(\"enter the num2 : \"))\n",
    "num3=eval(input(\"enter the num3 : \"))\n",
    "total=num1+num2+num3\n",
    "avg=total/3\n",
    "print(\"The avg is  =\" ,avg)"
   ]
  },
  {
   "cell_type": "markdown",
   "id": "eca72f10-d949-485a-b891-ae351403b542",
   "metadata": {},
   "source": [
    "**5. A lot of cell phones have tip calculators. Write one. Ask the user for\n",
    "the price of the meal and the percent tip they want to leave. Then\n",
    "print both the tip amount and the total bill with the tip included.**"
   ]
  },
  {
   "cell_type": "code",
   "execution_count": 11,
   "id": "647176e2-22aa-466a-84bb-50632d63e3bb",
   "metadata": {},
   "outputs": [
    {
     "name": "stdin",
     "output_type": "stream",
     "text": [
      "enter the price amount:  100\n",
      "enter the tip percentage:  25\n"
     ]
    },
    {
     "name": "stdout",
     "output_type": "stream",
     "text": [
      "total bill amount 100 including tip 25.0 is : 125.0\n"
     ]
    }
   ],
   "source": [
    "price=eval(input(\"enter the price amount: \"))\n",
    "tippercentage=eval(input(\"enter the tip percentage: \"))\n",
    "totalbill=price+(price*tippercentage/100)\n",
    "print(f\"total bill amount {price} including tip {(price*tippercentage/100)} is :\",totalbill)"
   ]
  },
  {
   "cell_type": "markdown",
   "id": "db42865e-b3ce-47cd-91cf-fc2f2a40f2fd",
   "metadata": {},
   "source": [
    "**6. wap ask the user enter the 2 numbers find the subtraction,addition,\n",
    "multiplication and division**"
   ]
  },
  {
   "cell_type": "code",
   "execution_count": 13,
   "id": "3c3ba6db-e4e6-4941-a6be-66f8e5591c5d",
   "metadata": {},
   "outputs": [
    {
     "name": "stdin",
     "output_type": "stream",
     "text": [
      "enter the num1 :  1\n",
      "enter the num2 :  2\n"
     ]
    },
    {
     "name": "stdout",
     "output_type": "stream",
     "text": [
      "addition : 3\n",
      "subtraction : -1\n",
      "multiplication : 2\n",
      "division is : 0.5\n"
     ]
    }
   ],
   "source": [
    "n1=eval(input(\"enter the num1 : \"))\n",
    "n2=eval(input(\"enter the num2 : \"))\n",
    "print(f\"addition : {n1+n2}\\nsubtraction : {n1-n2}\\nmultiplication : {n1*n2}\\ndivision is : {n1/n2}\")"
   ]
  },
  {
   "cell_type": "markdown",
   "id": "9dfed2a5-5a5e-402e-aa9b-8ebccec42867",
   "metadata": {},
   "source": [
    "**7. wap ask the user enter radius values and pi value find the area\r\n",
    "of the circl**e"
   ]
  },
  {
   "cell_type": "code",
   "execution_count": 14,
   "id": "60ee9774-696d-481c-a871-41542bb7060b",
   "metadata": {},
   "outputs": [
    {
     "name": "stdin",
     "output_type": "stream",
     "text": [
      "enter the radius of circle:  5\n"
     ]
    },
    {
     "name": "stdout",
     "output_type": "stream",
     "text": [
      "area of circle is :  78.5\n"
     ]
    }
   ],
   "source": [
    "rad=eval(input(\"enter the radius of circle: \"))\n",
    "print(\"area of circle is : \",3.14*rad**2)"
   ]
  },
  {
   "cell_type": "markdown",
   "id": "2381da47-c8a1-44ae-a2dc-e318f8765207",
   "metadata": {},
   "source": [
    "**8. wap ask the user bill amount in dollars, ask the user enter how\r\n",
    "much indian rupees for one dollar print the bill amount in rupee**s"
   ]
  },
  {
   "cell_type": "code",
   "execution_count": 15,
   "id": "57514925-7ab4-4409-b6e1-901065e12f9e",
   "metadata": {},
   "outputs": [
    {
     "name": "stdin",
     "output_type": "stream",
     "text": [
      "bil_in_doller :  2\n",
      "one doller in inr :  80\n"
     ]
    },
    {
     "name": "stdout",
     "output_type": "stream",
     "text": [
      "the bill amount of 2 in indian rupees is 160\n"
     ]
    }
   ],
   "source": [
    "bil_in_dollers=eval(input(\"bil_in_doller : \"))\n",
    "ininr=eval(input(\"one doller in inr : \"))\n",
    "print(f\"the bill amount of {bil_in_dollers} in indian rupees is {bil_in_dollers*ininr}\")"
   ]
  },
  {
   "cell_type": "markdown",
   "id": "180e291f-47af-40ad-8aff-08b603d3afbb",
   "metadata": {},
   "source": [
    "**9. wap ask the user enter base height calculate area of the triangle**"
   ]
  },
  {
   "cell_type": "code",
   "execution_count": 16,
   "id": "2c04cc45-2e26-4a16-8197-3e193b86cb1d",
   "metadata": {},
   "outputs": [
    {
     "name": "stdin",
     "output_type": "stream",
     "text": [
      "enter the height of triangle:  23\n",
      "enter the width of triangle:  4\n"
     ]
    },
    {
     "name": "stdout",
     "output_type": "stream",
     "text": [
      "The area of right angled triangle is :  46.0\n"
     ]
    }
   ],
   "source": [
    "height=eval(input(\"enter the height of triangle: \"))\n",
    "width=eval(input(\"enter the width of triangle: \"))\n",
    "print(\"The area of right angled triangle is : \",(1/2)*height*width)"
   ]
  },
  {
   "cell_type": "markdown",
   "id": "e386555d-3d53-468a-a63d-332b726dabe7",
   "metadata": {},
   "source": [
    "**10. wap ask the user enter length and breadth calculate area of the\r\n",
    "rectangl**e"
   ]
  },
  {
   "cell_type": "code",
   "execution_count": 17,
   "id": "2b3082c3-3976-4117-b82f-ae55c7e1cc55",
   "metadata": {},
   "outputs": [
    {
     "name": "stdin",
     "output_type": "stream",
     "text": [
      "enter the length of rectangle :  2\n",
      "enter the beadth of rectangle:  12\n"
     ]
    },
    {
     "name": "stdout",
     "output_type": "stream",
     "text": [
      "The area of right rectangle is :  24\n"
     ]
    }
   ],
   "source": [
    "len=eval(input(\"enter the length of rectangle : \"))\n",
    "beadth=eval(input(\"enter the beadth of rectangle: \"))\n",
    "print(\"The area of right rectangle is : \",beadth*len)"
   ]
  },
  {
   "cell_type": "code",
   "execution_count": 27,
   "id": "561466c9-bc53-463d-aaac-c31bff071531",
   "metadata": {},
   "outputs": [
    {
     "name": "stdin",
     "output_type": "stream",
     "text": [
      " Father: Hey Baby!\n",
      "  Daughter: Hello Dady\n",
      "  Father: I heard your exams are \n",
      "  Daughter: Yes dad! Results are out.\n",
      "  Father: what is the percentage?\n",
      "  Daughter: I will give my subject wise marks , you tell me the percentage\n",
      "  Father : Okay\n",
      "First Language: 12\n",
      "Second language: 23\n",
      "Third language: 24\n",
      "Science: 56\n",
      "Maths: 23\n"
     ]
    },
    {
     "name": "stdout",
     "output_type": "stream",
     "text": [
      "Daughter: Dad Now tell me how much percentage I got\n",
      "Father: Tell me the max marks of each subject\n"
     ]
    },
    {
     "name": "stdin",
     "output_type": "stream",
     "text": [
      "Daughter: 100\n"
     ]
    },
    {
     "name": "stdout",
     "output_type": "stream",
     "text": [
      "27.6\n"
     ]
    }
   ],
   "source": [
    "input()\n",
    "input()\n",
    "input()\n",
    "input()\n",
    "input()\n",
    "input()\n",
    "input()\n",
    "sub1=eval(input(\"First Language:\"))\n",
    "sub2=eval(input(\"Second language:\"))\n",
    "sub3=eval(input(\"Third language:\"))\n",
    "sub4=eval(input(\"Science:\"))\n",
    "sub5=eval(input(\"Maths:\"))\n",
    "total=sub1+sub2+sub3+sub4+sub5\n",
    "print(\"Daughter: Dad Now tell me how much percentage I got\")\n",
    "print(\"Father: Tell me the max marks of each subject\")\n",
    "max_marks=eval(input(\"Daughter:\"))\n",
    "print((total/(max_marks*5))*100)"
   ]
  }
 ],
 "metadata": {
  "kernelspec": {
   "display_name": "Python 3 (ipykernel)",
   "language": "python",
   "name": "python3"
  },
  "language_info": {
   "codemirror_mode": {
    "name": "ipython",
    "version": 3
   },
   "file_extension": ".py",
   "mimetype": "text/x-python",
   "name": "python",
   "nbconvert_exporter": "python",
   "pygments_lexer": "ipython3",
   "version": "3.11.2"
  }
 },
 "nbformat": 4,
 "nbformat_minor": 5
}

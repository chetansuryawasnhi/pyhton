{
 "cells": [
  {
   "cell_type": "markdown",
   "id": "87890eb8-88b0-4b9d-a2e2-38a6b623ac92",
   "metadata": {},
   "source": [
    "- functon with argument\n",
    "- function without aegument\n",
    "- function with dafault argument\n",
    "- golabl and local variable\n",
    "- unbound error\n",
    "\n",
    "\n",
    "**rule of function**\n",
    "- intalize the values\n",
    "- define the function\n",
    "- call the function\n",
    "- define local varible if want global then use global keyword\n",
    "- not use same name as global for local in assi"
   ]
  },
  {
   "cell_type": "code",
   "execution_count": 1,
   "id": "8dd9d689-0bd7-4160-bcd9-cd5a5d16314d",
   "metadata": {},
   "outputs": [],
   "source": [
    "## calculater using python "
   ]
  },
  {
   "cell_type": "code",
   "execution_count": 2,
   "id": "92cb6082-63ac-44ac-b8f9-714d6cddb06d",
   "metadata": {},
   "outputs": [
    {
     "name": "stdin",
     "output_type": "stream",
     "text": [
      " 12\n",
      "enter the opearatot : -\n",
      " 2\n"
     ]
    },
    {
     "name": "stdout",
     "output_type": "stream",
     "text": [
      "10\n"
     ]
    }
   ],
   "source": [
    "def fun1():\n",
    "    a=eval(input())\n",
    "    ope=input(\"enter the opearatot :\")\n",
    "    b=eval(input())\n",
    "    if ope=='+':\n",
    "        print(add(a,b))\n",
    "    elif ope=='-':\n",
    "        print(mins(a,b))\n",
    "    elif ope==\"*\":\n",
    "        print(mul(a,b))\n",
    "    elif ope==\"/\":\n",
    "        print(div(a,b))\n",
    "def add(a,b):\n",
    "    return a+b\n",
    "def mins(a,b):\n",
    "    return a-b\n",
    "def mul(a,b):\n",
    "    return a*b\n",
    "def div(a,b):\n",
    "    return a-b\n",
    "fun1()\n",
    "\n",
    "    "
   ]
  },
  {
   "cell_type": "code",
   "execution_count": null,
   "id": "bdcd5d27-a661-40c7-8041-09df195836d3",
   "metadata": {},
   "outputs": [],
   "source": []
  }
 ],
 "metadata": {
  "kernelspec": {
   "display_name": "Python 3 (ipykernel)",
   "language": "python",
   "name": "python3"
  },
  "language_info": {
   "codemirror_mode": {
    "name": "ipython",
    "version": 3
   },
   "file_extension": ".py",
   "mimetype": "text/x-python",
   "name": "python",
   "nbconvert_exporter": "python",
   "pygments_lexer": "ipython3",
   "version": "3.11.2"
  }
 },
 "nbformat": 4,
 "nbformat_minor": 5
}
